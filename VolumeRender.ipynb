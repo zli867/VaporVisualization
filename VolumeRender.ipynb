{
 "cells": [
  {
   "cell_type": "code",
   "execution_count": 1,
   "id": "5e2689d5",
   "metadata": {},
   "outputs": [
    {
     "name": "stderr",
     "output_type": "stream",
     "text": [
      "Warning: sysroot \"/Applications/Xcode_12.4.app/Contents/Developer/Platforms/MacOSX.platform/Developer/SDKs/MacOSX.sdk\" not found (ignoring for now)."
     ]
    },
    {
     "name": "stdout",
     "output_type": "stream",
     "text": [
      "Vapor 3.8.2\n",
      "Python 3.9.16 (/Users/zongrunli/opt/anaconda3/envs/vapor)\n",
      "OpenGL 4.1 INTEL-16.5.14\n"
     ]
    }
   ],
   "source": [
    "from vapor import session, renderer, dataset, camera, utils, transferfunction\n",
    "from vapor.animation import Animation\n",
    "import numpy as np"
   ]
  },
  {
   "cell_type": "code",
   "execution_count": 2,
   "id": "b8e28ec4",
   "metadata": {},
   "outputs": [],
   "source": [
    "filenames = [\"/Users/zongrunli/Desktop/WRF_Fire_Visualization/wrfout_d01_2022-04-25_00:00:00\"]\n",
    "ses = session.Session()\n",
    "data = ses.OpenDataset(dataset.WRF, filenames)"
   ]
  },
  {
   "cell_type": "markdown",
   "id": "708d2715",
   "metadata": {},
   "source": [
    "### TimeStep?"
   ]
  },
  {
   "cell_type": "code",
   "execution_count": 3,
   "id": "042f073e",
   "metadata": {},
   "outputs": [],
   "source": [
    "ses.SetTimestep(60)"
   ]
  },
  {
   "cell_type": "markdown",
   "id": "66426feb",
   "metadata": {},
   "source": [
    "## Smoke 3D Render"
   ]
  },
  {
   "cell_type": "markdown",
   "id": "86227371",
   "metadata": {},
   "source": [
    "## Read Variable"
   ]
  },
  {
   "cell_type": "code",
   "execution_count": 5,
   "id": "fe998579",
   "metadata": {},
   "outputs": [
    {
     "data": {
      "text/plain": [
       "True"
      ]
     },
     "execution_count": 5,
     "metadata": {},
     "output_type": "execute_result"
    }
   ],
   "source": [
    "smoke_tracer_name = \"tr17_2\"\n",
    "smoke_tracer_idx = data.GetDataVarNames(3).index(smoke_tracer_name)\n",
    "# render\n",
    "ren = data.NewRenderer(renderer.VolumeRenderer)\n",
    "ren.SetVariableName(data.GetDataVarNames(3)[smoke_tracer_idx])\n",
    "render_min = data.GetDataRange(smoke_tracer_name)[0]\n",
    "render_max = data.GetDataRange(smoke_tracer_name)[1]\n",
    "data.IsTimeVarying(smoke_tracer_name)"
   ]
  },
  {
   "cell_type": "markdown",
   "id": "5e8f5577",
   "metadata": {},
   "source": [
    "## Transfer Function"
   ]
  },
  {
   "cell_type": "code",
   "execution_count": 6,
   "id": "4f73c9fa",
   "metadata": {},
   "outputs": [],
   "source": [
    "smoke_max = 100\n",
    "smoke_min = 35\n",
    "opacities = [(render_min, 0), (smoke_min, 0), (smoke_max, 1), (render_max, 1)]"
   ]
  },
  {
   "cell_type": "code",
   "execution_count": 7,
   "id": "cd5bfebe",
   "metadata": {},
   "outputs": [],
   "source": [
    "ses.GetCamera().ViewAll()\n",
    "tf = ren.GetPrimaryTransferFunction()\n",
    "tf.SetOpacityControlPoints(opacities)\n",
    "tf.SetMaxMapValue(100)\n",
    "tf.SetMinMapValue(35)"
   ]
  },
  {
   "cell_type": "markdown",
   "id": "985357bb",
   "metadata": {},
   "source": [
    "## Colorbar"
   ]
  },
  {
   "cell_type": "code",
   "execution_count": 8,
   "id": "4fa97feb",
   "metadata": {},
   "outputs": [],
   "source": [
    "colorbar = ren.GetColorbarAnnotation()\n",
    "colorbar.SetEnabled(True)\n",
    "# Customized colorbar annotation\n",
    "colorbar.SetSize((0.1, 0.25))\n",
    "colorbar.SetTitle(\"PM2.5\")\n",
    "colorbar.SetCornerPosition((0.03, 0.03))"
   ]
  },
  {
   "cell_type": "markdown",
   "id": "16f595e2",
   "metadata": {},
   "source": [
    "## Scene"
   ]
  },
  {
   "cell_type": "code",
   "execution_count": 9,
   "id": "0bf3cbc0",
   "metadata": {},
   "outputs": [],
   "source": [
    "scene = ses.GetSceneAnnotations()\n",
    "scene.SetTimeType(scene.TimeAnnotationType.Formatted)\n",
    "scene.SetTimeLLX(0.6)"
   ]
  },
  {
   "cell_type": "code",
   "execution_count": 10,
   "id": "e7b54a1a",
   "metadata": {},
   "outputs": [
    {
     "data": {
      "image/png": "[encoded data removed]",
      "text/plain": [
       "<PIL.Image.Image image mode=RGB size=600x480>"
      ]
     },
     "metadata": {},
     "output_type": "display_data"
    }
   ],
   "source": [
    "ses.Show()\n",
    "# ses.Save(\"/Volumes/Shield/Coupling/10_min_timestep/tutorial.vs3\")"
   ]
  },
  {
   "cell_type": "code",
   "execution_count": 12,
   "id": "c1e1d457",
   "metadata": {},
   "outputs": [
    {
     "data": {
      "application/vnd.jupyter.widget-view+json": {
       "model_id": "a69a12a825bc47e09a0964e9b6fd5ecd",
       "version_major": 2,
       "version_minor": 0
      },
      "text/plain": [
       "VBox(children=(VaporVisualizerWidget(imageData='/9j/4AAQSkZJRgABAQAAAQABAAD/2wBDAAgGBgcGBQgHBwcJCQgKDBQNDAsLDB…"
      ]
     },
     "execution_count": 12,
     "metadata": {},
     "output_type": "execute_result"
    },
    {
     "ename": "TypeError",
     "evalue": "void Session::SetTimestep(int ts) =>\n    TypeError: could not convert argument 1 (int conversion expects an integer object)",
     "output_type": "error",
     "traceback": [
      "\u001b[0;31m---------------------------------------------------------------------------\u001b[0m",
      "\u001b[0;31mTypeError\u001b[0m                                 Traceback (most recent call last)",
      "File \u001b[0;32m~/opt/anaconda3/envs/vapor/lib/python3.9/site-packages/ipywidgets/widgets/widget.py:773\u001b[0m, in \u001b[0;36mWidget._handle_msg\u001b[0;34m(self, msg)\u001b[0m\n\u001b[1;32m    771\u001b[0m         \u001b[38;5;28;01mif\u001b[39;00m \u001b[38;5;124m'\u001b[39m\u001b[38;5;124mbuffer_paths\u001b[39m\u001b[38;5;124m'\u001b[39m \u001b[38;5;129;01min\u001b[39;00m data:\n\u001b[1;32m    772\u001b[0m             _put_buffers(state, data[\u001b[38;5;124m'\u001b[39m\u001b[38;5;124mbuffer_paths\u001b[39m\u001b[38;5;124m'\u001b[39m], msg[\u001b[38;5;124m'\u001b[39m\u001b[38;5;124mbuffers\u001b[39m\u001b[38;5;124m'\u001b[39m])\n\u001b[0;32m--> 773\u001b[0m         \u001b[38;5;28;43mself\u001b[39;49m\u001b[38;5;241;43m.\u001b[39;49m\u001b[43mset_state\u001b[49m\u001b[43m(\u001b[49m\u001b[43mstate\u001b[49m\u001b[43m)\u001b[49m\n\u001b[1;32m    775\u001b[0m \u001b[38;5;66;03m# Handle a state request.\u001b[39;00m\n\u001b[1;32m    776\u001b[0m \u001b[38;5;28;01melif\u001b[39;00m method \u001b[38;5;241m==\u001b[39m \u001b[38;5;124m'\u001b[39m\u001b[38;5;124mrequest_state\u001b[39m\u001b[38;5;124m'\u001b[39m:\n",
      "File \u001b[0;32m~/opt/anaconda3/envs/vapor/lib/python3.9/site-packages/ipywidgets/widgets/widget.py:655\u001b[0m, in \u001b[0;36mWidget.set_state\u001b[0;34m(self, sync_data)\u001b[0m\n\u001b[1;32m    652\u001b[0m \u001b[38;5;28;01mif\u001b[39;00m name \u001b[38;5;129;01min\u001b[39;00m \u001b[38;5;28mself\u001b[39m\u001b[38;5;241m.\u001b[39mkeys:\n\u001b[1;32m    653\u001b[0m     from_json \u001b[38;5;241m=\u001b[39m \u001b[38;5;28mself\u001b[39m\u001b[38;5;241m.\u001b[39mtrait_metadata(name, \u001b[38;5;124m'\u001b[39m\u001b[38;5;124mfrom_json\u001b[39m\u001b[38;5;124m'\u001b[39m,\n\u001b[1;32m    654\u001b[0m                                     \u001b[38;5;28mself\u001b[39m\u001b[38;5;241m.\u001b[39m_trait_from_json)\n\u001b[0;32m--> 655\u001b[0m     \u001b[38;5;28mself\u001b[39m\u001b[38;5;241m.\u001b[39mset_trait(name, from_json(sync_data[name], \u001b[38;5;28mself\u001b[39m))\n",
      "File \u001b[0;32m~/opt/anaconda3/envs/vapor/lib/python3.9/contextlib.py:126\u001b[0m, in \u001b[0;36m_GeneratorContextManager.__exit__\u001b[0;34m(self, typ, value, traceback)\u001b[0m\n\u001b[1;32m    124\u001b[0m \u001b[38;5;28;01mif\u001b[39;00m typ \u001b[38;5;129;01mis\u001b[39;00m \u001b[38;5;28;01mNone\u001b[39;00m:\n\u001b[1;32m    125\u001b[0m     \u001b[38;5;28;01mtry\u001b[39;00m:\n\u001b[0;32m--> 126\u001b[0m         \u001b[38;5;28;43mnext\u001b[39;49m\u001b[43m(\u001b[49m\u001b[38;5;28;43mself\u001b[39;49m\u001b[38;5;241;43m.\u001b[39;49m\u001b[43mgen\u001b[49m\u001b[43m)\u001b[49m\n\u001b[1;32m    127\u001b[0m     \u001b[38;5;28;01mexcept\u001b[39;00m \u001b[38;5;167;01mStopIteration\u001b[39;00m:\n\u001b[1;32m    128\u001b[0m         \u001b[38;5;28;01mreturn\u001b[39;00m \u001b[38;5;28;01mFalse\u001b[39;00m\n",
      "File \u001b[0;32m~/opt/anaconda3/envs/vapor/lib/python3.9/site-packages/traitlets/traitlets.py:1502\u001b[0m, in \u001b[0;36mHasTraits.hold_trait_notifications\u001b[0;34m(self)\u001b[0m\n\u001b[1;32m   1500\u001b[0m \u001b[38;5;28;01mfor\u001b[39;00m changes \u001b[38;5;129;01min\u001b[39;00m cache\u001b[38;5;241m.\u001b[39mvalues():\n\u001b[1;32m   1501\u001b[0m     \u001b[38;5;28;01mfor\u001b[39;00m change \u001b[38;5;129;01min\u001b[39;00m changes:\n\u001b[0;32m-> 1502\u001b[0m         \u001b[38;5;28;43mself\u001b[39;49m\u001b[38;5;241;43m.\u001b[39;49m\u001b[43mnotify_change\u001b[49m\u001b[43m(\u001b[49m\u001b[43mchange\u001b[49m\u001b[43m)\u001b[49m\n",
      "File \u001b[0;32m~/opt/anaconda3/envs/vapor/lib/python3.9/site-packages/ipywidgets/widgets/widget.py:701\u001b[0m, in \u001b[0;36mWidget.notify_change\u001b[0;34m(self, change)\u001b[0m\n\u001b[1;32m    698\u001b[0m     \u001b[38;5;28;01mif\u001b[39;00m name \u001b[38;5;129;01min\u001b[39;00m \u001b[38;5;28mself\u001b[39m\u001b[38;5;241m.\u001b[39mkeys \u001b[38;5;129;01mand\u001b[39;00m \u001b[38;5;28mself\u001b[39m\u001b[38;5;241m.\u001b[39m_should_send_property(name, \u001b[38;5;28mgetattr\u001b[39m(\u001b[38;5;28mself\u001b[39m, name)):\n\u001b[1;32m    699\u001b[0m         \u001b[38;5;66;03m# Send new state to front-end\u001b[39;00m\n\u001b[1;32m    700\u001b[0m         \u001b[38;5;28mself\u001b[39m\u001b[38;5;241m.\u001b[39msend_state(key\u001b[38;5;241m=\u001b[39mname)\n\u001b[0;32m--> 701\u001b[0m \u001b[38;5;28;43msuper\u001b[39;49m\u001b[43m(\u001b[49m\u001b[43m)\u001b[49m\u001b[38;5;241;43m.\u001b[39;49m\u001b[43mnotify_change\u001b[49m\u001b[43m(\u001b[49m\u001b[43mchange\u001b[49m\u001b[43m)\u001b[49m\n",
      "File \u001b[0;32m~/opt/anaconda3/envs/vapor/lib/python3.9/site-packages/traitlets/traitlets.py:1517\u001b[0m, in \u001b[0;36mHasTraits.notify_change\u001b[0;34m(self, change)\u001b[0m\n\u001b[1;32m   1515\u001b[0m \u001b[38;5;28;01mdef\u001b[39;00m \u001b[38;5;21mnotify_change\u001b[39m(\u001b[38;5;28mself\u001b[39m, change):\n\u001b[1;32m   1516\u001b[0m \u001b[38;5;250m    \u001b[39m\u001b[38;5;124;03m\"\"\"Notify observers of a change event\"\"\"\u001b[39;00m\n\u001b[0;32m-> 1517\u001b[0m     \u001b[38;5;28;01mreturn\u001b[39;00m \u001b[38;5;28;43mself\u001b[39;49m\u001b[38;5;241;43m.\u001b[39;49m\u001b[43m_notify_observers\u001b[49m\u001b[43m(\u001b[49m\u001b[43mchange\u001b[49m\u001b[43m)\u001b[49m\n",
      "File \u001b[0;32m~/opt/anaconda3/envs/vapor/lib/python3.9/site-packages/traitlets/traitlets.py:1564\u001b[0m, in \u001b[0;36mHasTraits._notify_observers\u001b[0;34m(self, event)\u001b[0m\n\u001b[1;32m   1561\u001b[0m \u001b[38;5;28;01melif\u001b[39;00m \u001b[38;5;28misinstance\u001b[39m(c, EventHandler) \u001b[38;5;129;01mand\u001b[39;00m c\u001b[38;5;241m.\u001b[39mname \u001b[38;5;129;01mis\u001b[39;00m \u001b[38;5;129;01mnot\u001b[39;00m \u001b[38;5;28;01mNone\u001b[39;00m:\n\u001b[1;32m   1562\u001b[0m     c \u001b[38;5;241m=\u001b[39m \u001b[38;5;28mgetattr\u001b[39m(\u001b[38;5;28mself\u001b[39m, c\u001b[38;5;241m.\u001b[39mname)\n\u001b[0;32m-> 1564\u001b[0m \u001b[43mc\u001b[49m\u001b[43m(\u001b[49m\u001b[43mevent\u001b[49m\u001b[43m)\u001b[49m\n",
      "Cell \u001b[0;32mIn[12], line 4\u001b[0m, in \u001b[0;36msliderChanged\u001b[0;34m(change)\u001b[0m\n\u001b[1;32m      3\u001b[0m \u001b[38;5;28;01mdef\u001b[39;00m \u001b[38;5;21msliderChanged\u001b[39m(change):\n\u001b[0;32m----> 4\u001b[0m     \u001b[43mses\u001b[49m\u001b[38;5;241;43m.\u001b[39;49m\u001b[43mSetTimestep\u001b[49m\u001b[43m(\u001b[49m\u001b[43mchange\u001b[49m\u001b[43m)\u001b[49m\n\u001b[1;32m      5\u001b[0m     viz\u001b[38;5;241m.\u001b[39mRender(fast\u001b[38;5;241m=\u001b[39m\u001b[38;5;28;01mTrue\u001b[39;00m)\n",
      "\u001b[0;31mTypeError\u001b[0m: void Session::SetTimestep(int ts) =>\n    TypeError: could not convert argument 1 (int conversion expects an integer object)"
     ]
    }
   ],
   "source": [
    "from jupyter_vapor_widget import *\n",
    "viz = VaporVisualizerWidget(ses)\n",
    "def sliderChanged(change):\n",
    "    ses.SetTimestep(change)\n",
    "    viz.Render(fast=True)\n",
    "\n",
    "slider = widgets.IntSlider(\n",
    "    value=105, # initial value\n",
    "    min=100,\n",
    "    max=110,\n",
    "    step=1\n",
    ")\n",
    "slider.observe(sliderChanged, names='value')\n",
    "widgets.VBox([\n",
    "    viz,\n",
    "    widgets.HBox([widgets.Label(\"TimeStep:\"), slider])\n",
    "])"
   ]
  },
  {
   "cell_type": "code",
   "execution_count": null,
   "id": "814819f1",
   "metadata": {},
   "outputs": [],
   "source": []
  }
 ],
 "metadata": {
  "kernelspec": {
   "display_name": "Python 3 (ipykernel)",
   "language": "python",
   "name": "python3"
  },
  "language_info": {
   "codemirror_mode": {
    "name": "ipython",
    "version": 3
   },
   "file_extension": ".py",
   "mimetype": "text/x-python",
   "name": "python",
   "nbconvert_exporter": "python",
   "pygments_lexer": "ipython3",
   "version": "3.9.16"
  }
 },
 "nbformat": 4,
 "nbformat_minor": 5
}
